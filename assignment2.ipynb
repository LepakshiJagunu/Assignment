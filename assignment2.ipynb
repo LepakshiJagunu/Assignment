{
  "nbformat": 4,
  "nbformat_minor": 0,
  "metadata": {
    "colab": {
      "name": "assignment2",
      "provenance": [],
      "authorship_tag": "ABX9TyNoZuhEv3BEZE1vHF0TIqU2",
      "include_colab_link": true
    },
    "kernelspec": {
      "name": "python3",
      "display_name": "Python 3"
    },
    "language_info": {
      "name": "python"
    }
  },
  "cells": [
    {
      "cell_type": "markdown",
      "metadata": {
        "id": "view-in-github",
        "colab_type": "text"
      },
      "source": [
        "<a href=\"https://colab.research.google.com/github/LepakshiJagunu/Assignment/blob/main/assignment2.ipynb\" target=\"_parent\"><img src=\"https://colab.research.google.com/assets/colab-badge.svg\" alt=\"Open In Colab\"/></a>"
      ]
    },
    {
      "cell_type": "code",
      "metadata": {
        "id": "Sj-0eyVCJLm0"
      },
      "source": [
        "import numpy as np\n",
        "import matplotlib.pyplot as plt\n",
        "import pandas as pd\n",
        "import seaborn as sns\n",
        "%matplotlib inline\n",
        "from numpy.random import randn,randint,uniform,sample"
      ],
      "execution_count": 1,
      "outputs": []
    },
    {
      "cell_type": "code",
      "metadata": {
        "colab": {
          "base_uri": "https://localhost:8080/",
          "height": 362
        },
        "id": "rp-XnPMAJOBZ",
        "outputId": "95e9e0d5-794f-4f75-bfee-2d5fa352f7a7"
      },
      "source": [
        "df = pd.DataFrame(randn(10,4),columns=['a','b','c','d'])\n",
        "df"
      ],
      "execution_count": 2,
      "outputs": [
        {
          "output_type": "execute_result",
          "data": {
            "text/html": [
              "<div>\n",
              "<style scoped>\n",
              "    .dataframe tbody tr th:only-of-type {\n",
              "        vertical-align: middle;\n",
              "    }\n",
              "\n",
              "    .dataframe tbody tr th {\n",
              "        vertical-align: top;\n",
              "    }\n",
              "\n",
              "    .dataframe thead th {\n",
              "        text-align: right;\n",
              "    }\n",
              "</style>\n",
              "<table border=\"1\" class=\"dataframe\">\n",
              "  <thead>\n",
              "    <tr style=\"text-align: right;\">\n",
              "      <th></th>\n",
              "      <th>a</th>\n",
              "      <th>b</th>\n",
              "      <th>c</th>\n",
              "      <th>d</th>\n",
              "    </tr>\n",
              "  </thead>\n",
              "  <tbody>\n",
              "    <tr>\n",
              "      <th>0</th>\n",
              "      <td>0.616223</td>\n",
              "      <td>-0.084799</td>\n",
              "      <td>0.300692</td>\n",
              "      <td>-0.366404</td>\n",
              "    </tr>\n",
              "    <tr>\n",
              "      <th>1</th>\n",
              "      <td>-0.379601</td>\n",
              "      <td>0.557692</td>\n",
              "      <td>-0.435114</td>\n",
              "      <td>-1.252870</td>\n",
              "    </tr>\n",
              "    <tr>\n",
              "      <th>2</th>\n",
              "      <td>0.275834</td>\n",
              "      <td>0.207561</td>\n",
              "      <td>1.315655</td>\n",
              "      <td>0.269938</td>\n",
              "    </tr>\n",
              "    <tr>\n",
              "      <th>3</th>\n",
              "      <td>-0.727843</td>\n",
              "      <td>-1.901827</td>\n",
              "      <td>0.077440</td>\n",
              "      <td>1.645030</td>\n",
              "    </tr>\n",
              "    <tr>\n",
              "      <th>4</th>\n",
              "      <td>-0.833221</td>\n",
              "      <td>-0.890828</td>\n",
              "      <td>1.052602</td>\n",
              "      <td>-2.921263</td>\n",
              "    </tr>\n",
              "    <tr>\n",
              "      <th>5</th>\n",
              "      <td>-0.304485</td>\n",
              "      <td>-0.011670</td>\n",
              "      <td>0.531488</td>\n",
              "      <td>-0.492550</td>\n",
              "    </tr>\n",
              "    <tr>\n",
              "      <th>6</th>\n",
              "      <td>-0.771180</td>\n",
              "      <td>-0.136824</td>\n",
              "      <td>0.059416</td>\n",
              "      <td>-1.629630</td>\n",
              "    </tr>\n",
              "    <tr>\n",
              "      <th>7</th>\n",
              "      <td>-1.161652</td>\n",
              "      <td>-1.977248</td>\n",
              "      <td>1.119436</td>\n",
              "      <td>-0.333650</td>\n",
              "    </tr>\n",
              "    <tr>\n",
              "      <th>8</th>\n",
              "      <td>-0.510427</td>\n",
              "      <td>-0.326478</td>\n",
              "      <td>-0.056451</td>\n",
              "      <td>-1.430822</td>\n",
              "    </tr>\n",
              "    <tr>\n",
              "      <th>9</th>\n",
              "      <td>-0.153935</td>\n",
              "      <td>-0.228003</td>\n",
              "      <td>-0.313829</td>\n",
              "      <td>-0.190239</td>\n",
              "    </tr>\n",
              "  </tbody>\n",
              "</table>\n",
              "</div>"
            ],
            "text/plain": [
              "          a         b         c         d\n",
              "0  0.616223 -0.084799  0.300692 -0.366404\n",
              "1 -0.379601  0.557692 -0.435114 -1.252870\n",
              "2  0.275834  0.207561  1.315655  0.269938\n",
              "3 -0.727843 -1.901827  0.077440  1.645030\n",
              "4 -0.833221 -0.890828  1.052602 -2.921263\n",
              "5 -0.304485 -0.011670  0.531488 -0.492550\n",
              "6 -0.771180 -0.136824  0.059416 -1.629630\n",
              "7 -1.161652 -1.977248  1.119436 -0.333650\n",
              "8 -0.510427 -0.326478 -0.056451 -1.430822\n",
              "9 -0.153935 -0.228003 -0.313829 -0.190239"
            ]
          },
          "metadata": {
            "tags": []
          },
          "execution_count": 2
        }
      ]
    },
    {
      "cell_type": "code",
      "metadata": {
        "colab": {
          "base_uri": "https://localhost:8080/",
          "height": 622
        },
        "id": "-GpDWWhlJWBL",
        "outputId": "a94acd61-05e3-4c0d-c55e-487317c2975f"
      },
      "source": [
        "df.plot(kind='bar',width=(2),figsize=(12,10))\n",
        "plt.title('Bar Graph', color=\"green\")"
      ],
      "execution_count": 6,
      "outputs": [
        {
          "output_type": "execute_result",
          "data": {
            "text/plain": [
              "Text(0.5, 1.0, 'Bar Graph')"
            ]
          },
          "metadata": {
            "tags": []
          },
          "execution_count": 6
        },
        {
          "output_type": "display_data",
          "data": {
            "image/png": "[encoded data removed]",
            "text/plain": [
              "<Figure size 864x720 with 1 Axes>"
            ]
          },
          "metadata": {
            "tags": [],
            "needs_background": "light"
          }
        }
      ]
    }
  ]
}